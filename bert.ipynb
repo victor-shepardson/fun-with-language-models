{
 "cells": [
  {
   "cell_type": "code",
   "execution_count": 1,
   "metadata": {},
   "outputs": [],
   "source": [
    "import numpy as np\n",
    "import pandas as pd\n",
    "from IPython.display import display\n",
    "\n",
    "import torch\n",
    "\n",
    "from pytorch_pretrained_bert.tokenization import BertTokenizer\n",
    "from pytorch_pretrained_bert.modeling import BertForMaskedLM"
   ]
  },
  {
   "cell_type": "code",
   "execution_count": 19,
   "metadata": {},
   "outputs": [
    {
     "name": "stderr",
     "output_type": "stream",
     "text": [
      "11/26/2018 13:32:57 - INFO - pytorch_pretrained_bert.tokenization -   loading vocabulary file https://s3.amazonaws.com/models.huggingface.co/bert/bert-base-cased-vocab.txt from cache at /Users/victor/.pytorch_pretrained_bert/5e8a2b4893d13790ed4150ca1906be5f7a03d6c4ddf62296c383f6db42814db2.e13dbb970cb325137104fb2e5f36fe865f27746c6b526f6352861b1980eb80b1\n",
      "11/26/2018 13:32:57 - INFO - pytorch_pretrained_bert.modeling -   loading archive file https://s3.amazonaws.com/models.huggingface.co/bert/bert-base-cased.tar.gz from cache at /Users/victor/.pytorch_pretrained_bert/a803ce83ca27fecf74c355673c434e51c265fb8a3e0e57ac62a80e38ba98d384.681017f415dfb33ec8d0e04fe51a619f3f01532ecea04edbfd48c5d160550d9c\n",
      "11/26/2018 13:32:57 - INFO - pytorch_pretrained_bert.modeling -   extracting archive file /Users/victor/.pytorch_pretrained_bert/a803ce83ca27fecf74c355673c434e51c265fb8a3e0e57ac62a80e38ba98d384.681017f415dfb33ec8d0e04fe51a619f3f01532ecea04edbfd48c5d160550d9c to temp dir /var/folders/vd/6zpy6cdx28538df63rbgt_600000gn/T/tmpu31ifir7\n",
      "11/26/2018 13:33:01 - INFO - pytorch_pretrained_bert.modeling -   Model config {\n",
      "  \"attention_probs_dropout_prob\": 0.1,\n",
      "  \"hidden_act\": \"gelu\",\n",
      "  \"hidden_dropout_prob\": 0.1,\n",
      "  \"hidden_size\": 768,\n",
      "  \"initializer_range\": 0.02,\n",
      "  \"intermediate_size\": 3072,\n",
      "  \"max_position_embeddings\": 512,\n",
      "  \"num_attention_heads\": 12,\n",
      "  \"num_hidden_layers\": 12,\n",
      "  \"type_vocab_size\": 2,\n",
      "  \"vocab_size\": 28996\n",
      "}\n",
      "\n",
      "11/26/2018 13:33:04 - INFO - pytorch_pretrained_bert.modeling -   Weights from pretrained model not used in BertForMaskedLM: ['cls.seq_relationship.weight', 'cls.seq_relationship.bias']\n"
     ]
    },
    {
     "data": {
      "text/plain": [
       "BertForMaskedLM(\n",
       "  (bert): BertModel(\n",
       "    (embeddings): BertEmbeddings(\n",
       "      (word_embeddings): Embedding(28996, 768)\n",
       "      (position_embeddings): Embedding(512, 768)\n",
       "      (token_type_embeddings): Embedding(2, 768)\n",
       "      (LayerNorm): BertLayerNorm()\n",
       "      (dropout): Dropout(p=0.1)\n",
       "    )\n",
       "    (encoder): BertEncoder(\n",
       "      (layer): ModuleList(\n",
       "        (0): BertLayer(\n",
       "          (attention): BertAttention(\n",
       "            (self): BertSelfAttention(\n",
       "              (query): Linear(in_features=768, out_features=768, bias=True)\n",
       "              (key): Linear(in_features=768, out_features=768, bias=True)\n",
       "              (value): Linear(in_features=768, out_features=768, bias=True)\n",
       "              (dropout): Dropout(p=0.1)\n",
       "            )\n",
       "            (output): BertSelfOutput(\n",
       "              (dense): Linear(in_features=768, out_features=768, bias=True)\n",
       "              (LayerNorm): BertLayerNorm()\n",
       "              (dropout): Dropout(p=0.1)\n",
       "            )\n",
       "          )\n",
       "          (intermediate): BertIntermediate(\n",
       "            (dense): Linear(in_features=768, out_features=3072, bias=True)\n",
       "          )\n",
       "          (output): BertOutput(\n",
       "            (dense): Linear(in_features=3072, out_features=768, bias=True)\n",
       "            (LayerNorm): BertLayerNorm()\n",
       "            (dropout): Dropout(p=0.1)\n",
       "          )\n",
       "        )\n",
       "        (1): BertLayer(\n",
       "          (attention): BertAttention(\n",
       "            (self): BertSelfAttention(\n",
       "              (query): Linear(in_features=768, out_features=768, bias=True)\n",
       "              (key): Linear(in_features=768, out_features=768, bias=True)\n",
       "              (value): Linear(in_features=768, out_features=768, bias=True)\n",
       "              (dropout): Dropout(p=0.1)\n",
       "            )\n",
       "            (output): BertSelfOutput(\n",
       "              (dense): Linear(in_features=768, out_features=768, bias=True)\n",
       "              (LayerNorm): BertLayerNorm()\n",
       "              (dropout): Dropout(p=0.1)\n",
       "            )\n",
       "          )\n",
       "          (intermediate): BertIntermediate(\n",
       "            (dense): Linear(in_features=768, out_features=3072, bias=True)\n",
       "          )\n",
       "          (output): BertOutput(\n",
       "            (dense): Linear(in_features=3072, out_features=768, bias=True)\n",
       "            (LayerNorm): BertLayerNorm()\n",
       "            (dropout): Dropout(p=0.1)\n",
       "          )\n",
       "        )\n",
       "        (2): BertLayer(\n",
       "          (attention): BertAttention(\n",
       "            (self): BertSelfAttention(\n",
       "              (query): Linear(in_features=768, out_features=768, bias=True)\n",
       "              (key): Linear(in_features=768, out_features=768, bias=True)\n",
       "              (value): Linear(in_features=768, out_features=768, bias=True)\n",
       "              (dropout): Dropout(p=0.1)\n",
       "            )\n",
       "            (output): BertSelfOutput(\n",
       "              (dense): Linear(in_features=768, out_features=768, bias=True)\n",
       "              (LayerNorm): BertLayerNorm()\n",
       "              (dropout): Dropout(p=0.1)\n",
       "            )\n",
       "          )\n",
       "          (intermediate): BertIntermediate(\n",
       "            (dense): Linear(in_features=768, out_features=3072, bias=True)\n",
       "          )\n",
       "          (output): BertOutput(\n",
       "            (dense): Linear(in_features=3072, out_features=768, bias=True)\n",
       "            (LayerNorm): BertLayerNorm()\n",
       "            (dropout): Dropout(p=0.1)\n",
       "          )\n",
       "        )\n",
       "        (3): BertLayer(\n",
       "          (attention): BertAttention(\n",
       "            (self): BertSelfAttention(\n",
       "              (query): Linear(in_features=768, out_features=768, bias=True)\n",
       "              (key): Linear(in_features=768, out_features=768, bias=True)\n",
       "              (value): Linear(in_features=768, out_features=768, bias=True)\n",
       "              (dropout): Dropout(p=0.1)\n",
       "            )\n",
       "            (output): BertSelfOutput(\n",
       "              (dense): Linear(in_features=768, out_features=768, bias=True)\n",
       "              (LayerNorm): BertLayerNorm()\n",
       "              (dropout): Dropout(p=0.1)\n",
       "            )\n",
       "          )\n",
       "          (intermediate): BertIntermediate(\n",
       "            (dense): Linear(in_features=768, out_features=3072, bias=True)\n",
       "          )\n",
       "          (output): BertOutput(\n",
       "            (dense): Linear(in_features=3072, out_features=768, bias=True)\n",
       "            (LayerNorm): BertLayerNorm()\n",
       "            (dropout): Dropout(p=0.1)\n",
       "          )\n",
       "        )\n",
       "        (4): BertLayer(\n",
       "          (attention): BertAttention(\n",
       "            (self): BertSelfAttention(\n",
       "              (query): Linear(in_features=768, out_features=768, bias=True)\n",
       "              (key): Linear(in_features=768, out_features=768, bias=True)\n",
       "              (value): Linear(in_features=768, out_features=768, bias=True)\n",
       "              (dropout): Dropout(p=0.1)\n",
       "            )\n",
       "            (output): BertSelfOutput(\n",
       "              (dense): Linear(in_features=768, out_features=768, bias=True)\n",
       "              (LayerNorm): BertLayerNorm()\n",
       "              (dropout): Dropout(p=0.1)\n",
       "            )\n",
       "          )\n",
       "          (intermediate): BertIntermediate(\n",
       "            (dense): Linear(in_features=768, out_features=3072, bias=True)\n",
       "          )\n",
       "          (output): BertOutput(\n",
       "            (dense): Linear(in_features=3072, out_features=768, bias=True)\n",
       "            (LayerNorm): BertLayerNorm()\n",
       "            (dropout): Dropout(p=0.1)\n",
       "          )\n",
       "        )\n",
       "        (5): BertLayer(\n",
       "          (attention): BertAttention(\n",
       "            (self): BertSelfAttention(\n",
       "              (query): Linear(in_features=768, out_features=768, bias=True)\n",
       "              (key): Linear(in_features=768, out_features=768, bias=True)\n",
       "              (value): Linear(in_features=768, out_features=768, bias=True)\n",
       "              (dropout): Dropout(p=0.1)\n",
       "            )\n",
       "            (output): BertSelfOutput(\n",
       "              (dense): Linear(in_features=768, out_features=768, bias=True)\n",
       "              (LayerNorm): BertLayerNorm()\n",
       "              (dropout): Dropout(p=0.1)\n",
       "            )\n",
       "          )\n",
       "          (intermediate): BertIntermediate(\n",
       "            (dense): Linear(in_features=768, out_features=3072, bias=True)\n",
       "          )\n",
       "          (output): BertOutput(\n",
       "            (dense): Linear(in_features=3072, out_features=768, bias=True)\n",
       "            (LayerNorm): BertLayerNorm()\n",
       "            (dropout): Dropout(p=0.1)\n",
       "          )\n",
       "        )\n",
       "        (6): BertLayer(\n",
       "          (attention): BertAttention(\n",
       "            (self): BertSelfAttention(\n",
       "              (query): Linear(in_features=768, out_features=768, bias=True)\n",
       "              (key): Linear(in_features=768, out_features=768, bias=True)\n",
       "              (value): Linear(in_features=768, out_features=768, bias=True)\n",
       "              (dropout): Dropout(p=0.1)\n",
       "            )\n",
       "            (output): BertSelfOutput(\n",
       "              (dense): Linear(in_features=768, out_features=768, bias=True)\n",
       "              (LayerNorm): BertLayerNorm()\n",
       "              (dropout): Dropout(p=0.1)\n",
       "            )\n",
       "          )\n",
       "          (intermediate): BertIntermediate(\n",
       "            (dense): Linear(in_features=768, out_features=3072, bias=True)\n",
       "          )\n",
       "          (output): BertOutput(\n",
       "            (dense): Linear(in_features=3072, out_features=768, bias=True)\n",
       "            (LayerNorm): BertLayerNorm()\n",
       "            (dropout): Dropout(p=0.1)\n",
       "          )\n",
       "        )\n",
       "        (7): BertLayer(\n",
       "          (attention): BertAttention(\n",
       "            (self): BertSelfAttention(\n",
       "              (query): Linear(in_features=768, out_features=768, bias=True)\n",
       "              (key): Linear(in_features=768, out_features=768, bias=True)\n",
       "              (value): Linear(in_features=768, out_features=768, bias=True)\n",
       "              (dropout): Dropout(p=0.1)\n",
       "            )\n",
       "            (output): BertSelfOutput(\n",
       "              (dense): Linear(in_features=768, out_features=768, bias=True)\n",
       "              (LayerNorm): BertLayerNorm()\n",
       "              (dropout): Dropout(p=0.1)\n",
       "            )\n",
       "          )\n",
       "          (intermediate): BertIntermediate(\n",
       "            (dense): Linear(in_features=768, out_features=3072, bias=True)\n",
       "          )\n",
       "          (output): BertOutput(\n",
       "            (dense): Linear(in_features=3072, out_features=768, bias=True)\n",
       "            (LayerNorm): BertLayerNorm()\n",
       "            (dropout): Dropout(p=0.1)\n",
       "          )\n",
       "        )\n",
       "        (8): BertLayer(\n",
       "          (attention): BertAttention(\n",
       "            (self): BertSelfAttention(\n",
       "              (query): Linear(in_features=768, out_features=768, bias=True)\n",
       "              (key): Linear(in_features=768, out_features=768, bias=True)\n",
       "              (value): Linear(in_features=768, out_features=768, bias=True)\n",
       "              (dropout): Dropout(p=0.1)\n",
       "            )\n",
       "            (output): BertSelfOutput(\n",
       "              (dense): Linear(in_features=768, out_features=768, bias=True)\n",
       "              (LayerNorm): BertLayerNorm()\n",
       "              (dropout): Dropout(p=0.1)\n",
       "            )\n",
       "          )\n",
       "          (intermediate): BertIntermediate(\n",
       "            (dense): Linear(in_features=768, out_features=3072, bias=True)\n",
       "          )\n",
       "          (output): BertOutput(\n",
       "            (dense): Linear(in_features=3072, out_features=768, bias=True)\n",
       "            (LayerNorm): BertLayerNorm()\n",
       "            (dropout): Dropout(p=0.1)\n",
       "          )\n",
       "        )\n",
       "        (9): BertLayer(\n",
       "          (attention): BertAttention(\n",
       "            (self): BertSelfAttention(\n",
       "              (query): Linear(in_features=768, out_features=768, bias=True)\n",
       "              (key): Linear(in_features=768, out_features=768, bias=True)\n",
       "              (value): Linear(in_features=768, out_features=768, bias=True)\n",
       "              (dropout): Dropout(p=0.1)\n",
       "            )\n",
       "            (output): BertSelfOutput(\n",
       "              (dense): Linear(in_features=768, out_features=768, bias=True)\n",
       "              (LayerNorm): BertLayerNorm()\n",
       "              (dropout): Dropout(p=0.1)\n",
       "            )\n",
       "          )\n",
       "          (intermediate): BertIntermediate(\n",
       "            (dense): Linear(in_features=768, out_features=3072, bias=True)\n",
       "          )\n",
       "          (output): BertOutput(\n",
       "            (dense): Linear(in_features=3072, out_features=768, bias=True)\n",
       "            (LayerNorm): BertLayerNorm()\n",
       "            (dropout): Dropout(p=0.1)\n",
       "          )\n",
       "        )\n",
       "        (10): BertLayer(\n",
       "          (attention): BertAttention(\n",
       "            (self): BertSelfAttention(\n",
       "              (query): Linear(in_features=768, out_features=768, bias=True)\n",
       "              (key): Linear(in_features=768, out_features=768, bias=True)\n",
       "              (value): Linear(in_features=768, out_features=768, bias=True)\n",
       "              (dropout): Dropout(p=0.1)\n",
       "            )\n",
       "            (output): BertSelfOutput(\n",
       "              (dense): Linear(in_features=768, out_features=768, bias=True)\n",
       "              (LayerNorm): BertLayerNorm()\n",
       "              (dropout): Dropout(p=0.1)\n",
       "            )\n",
       "          )\n",
       "          (intermediate): BertIntermediate(\n",
       "            (dense): Linear(in_features=768, out_features=3072, bias=True)\n",
       "          )\n",
       "          (output): BertOutput(\n",
       "            (dense): Linear(in_features=3072, out_features=768, bias=True)\n",
       "            (LayerNorm): BertLayerNorm()\n",
       "            (dropout): Dropout(p=0.1)\n",
       "          )\n",
       "        )\n",
       "        (11): BertLayer(\n",
       "          (attention): BertAttention(\n",
       "            (self): BertSelfAttention(\n",
       "              (query): Linear(in_features=768, out_features=768, bias=True)\n",
       "              (key): Linear(in_features=768, out_features=768, bias=True)\n",
       "              (value): Linear(in_features=768, out_features=768, bias=True)\n",
       "              (dropout): Dropout(p=0.1)\n",
       "            )\n",
       "            (output): BertSelfOutput(\n",
       "              (dense): Linear(in_features=768, out_features=768, bias=True)\n",
       "              (LayerNorm): BertLayerNorm()\n",
       "              (dropout): Dropout(p=0.1)\n",
       "            )\n",
       "          )\n",
       "          (intermediate): BertIntermediate(\n",
       "            (dense): Linear(in_features=768, out_features=3072, bias=True)\n",
       "          )\n",
       "          (output): BertOutput(\n",
       "            (dense): Linear(in_features=3072, out_features=768, bias=True)\n",
       "            (LayerNorm): BertLayerNorm()\n",
       "            (dropout): Dropout(p=0.1)\n",
       "          )\n",
       "        )\n",
       "      )\n",
       "    )\n",
       "    (pooler): BertPooler(\n",
       "      (dense): Linear(in_features=768, out_features=768, bias=True)\n",
       "      (activation): Tanh()\n",
       "    )\n",
       "  )\n",
       "  (cls): BertOnlyMLMHead(\n",
       "    (predictions): BertLMPredictionHead(\n",
       "      (transform): BertPredictionHeadTransform(\n",
       "        (dense): Linear(in_features=768, out_features=768, bias=True)\n",
       "        (LayerNorm): BertLayerNorm()\n",
       "      )\n",
       "      (decoder): Linear(in_features=768, out_features=28996, bias=False)\n",
       "    )\n",
       "  )\n",
       ")"
      ]
     },
     "execution_count": 19,
     "metadata": {},
     "output_type": "execute_result"
    }
   ],
   "source": [
    "model_id = 'bert-base-cased'\n",
    "tokenizer = BertTokenizer.from_pretrained(model_id, do_lower_case=False)\n",
    "model = BertForMaskedLM.from_pretrained(model_id)\n",
    "model.eval()\n",
    "pass"
   ]
  },
  {
   "cell_type": "code",
   "execution_count": 87,
   "metadata": {},
   "outputs": [
    {
     "data": {
      "text/plain": [
       "True"
      ]
     },
     "execution_count": 87,
     "metadata": {},
     "output_type": "execute_result"
    }
   ],
   "source": [
    "# the tokenizer can represent any word by spelling it, if necessary\n",
    "all('##'+c in tokenizer.vocab for c in 'abcdefghijklmnopqrstuvwxyz')"
   ]
  },
  {
   "cell_type": "code",
   "execution_count": 88,
   "metadata": {},
   "outputs": [
    {
     "data": {
      "text/plain": [
       "['x', '##k', '##c', '##d']"
      ]
     },
     "execution_count": 88,
     "metadata": {},
     "output_type": "execute_result"
    }
   ],
   "source": [
    "tokenizer.tokenize('xkcd')"
   ]
  },
  {
   "cell_type": "code",
   "execution_count": 91,
   "metadata": {},
   "outputs": [
    {
     "data": {
      "text/plain": [
       "(['foods', '##er', '##vice'], ['food', 'service'])"
      ]
     },
     "execution_count": 91,
     "metadata": {},
     "output_type": "execute_result"
    }
   ],
   "source": [
    "# but it's not all that smart\n",
    "tokenizer.tokenize('foodservice'), tokenizer.tokenize('food service')"
   ]
  },
  {
   "cell_type": "code",
   "execution_count": 90,
   "metadata": {},
   "outputs": [
    {
     "data": {
      "text/plain": [
       "['Al', '##cat', '##raz']"
      ]
     },
     "execution_count": 90,
     "metadata": {},
     "output_type": "execute_result"
    }
   ],
   "source": [
    "# and vocab is missing many proper nouns\n",
    "tokenizer.tokenize('Alcatraz')"
   ]
  },
  {
   "cell_type": "code",
   "execution_count": 85,
   "metadata": {},
   "outputs": [
    {
     "data": {
      "text/plain": [
       "array(['##ather', 'Zambia', '白', '##glass', '##umour', 'shade', 'Mat',\n",
       "       '##esign', 'ne', 'deep', 'Product', 'mage', 'Ron', 'Yukon',\n",
       "       'Arabian', 'detachment', '##garh', 'nods', 'ties', 'Flags',\n",
       "       'plaza', 'polo', 'announcer', 'Stratford', '₃', 'selfish',\n",
       "       'Windows', 'Romantic', 'Libby', '##ppard', 'ABS', 'say', 'Hooper',\n",
       "       '##kai', 'rhythm', '##ienne', 'Subsequent', '##EE', 'ň', '@',\n",
       "       'Lower', 'wooded', 'engines', 'table', 'Romano', 'museum',\n",
       "       'forest', 'Arena', '##phones', 'Gone', '##ֹ', 'DL', 'cooler',\n",
       "       'revival', 'Decision', '##umatic', 'Joel', '##ska', 'cm', 'viola',\n",
       "       '1990', '##watch', 'た', 'incomplete', 'terrorist', 'filmmaker',\n",
       "       '##llah', 'survivors', 'Visiting', 'Below', '##child',\n",
       "       'Gloucester', 'Sai', 'shift', 'Visiting', 'doctoral', 'rabbit',\n",
       "       '##lsive', 'ACT', 'think', '##rr', 'Triangle', 'cried', 'queen',\n",
       "       'topping', 'rational', '##bit', 'men', 'sense', 'employs',\n",
       "       'scoring', 'Custom', 'Indie', 'promised', 'jet', 'Fergus',\n",
       "       '##rber', 'Outdoor', 'Jet', 'Academy', '##onia', 'Emperor',\n",
       "       'Municipal', '##ci', 'tolerance', 'subsidies', '##pine', 'Malik',\n",
       "       '##theon', '1911', 'Mechanics', '##書', 'investors', 'cigar', '##Ș',\n",
       "       'initiative', 'considerable', '##ively', '##seau', 'bother', 'map',\n",
       "       'trillion', 'births', 'belts', 'announcement', 'correspondence',\n",
       "       'Quantum', 'accomplish', 'down', '⊕', '##dress', 'Want', '##vir',\n",
       "       'Napier', 'slower', 'qualifications', 'Herb', 'idle', 'premises',\n",
       "       'Grace', 'Clyde', '##orm', 'Raw', 'sponsored', 'divorce', '##GE',\n",
       "       '##eering', 'mount', 'kilometres', '150', 'stance', 'Rector',\n",
       "       '##প', 'Rajasthan', '##metric', 'disturbance', 'Kat', 'wildly',\n",
       "       'Red', 'Peacock', '335', '##band', '¾', 'drove', 'planes',\n",
       "       'revive', 'Masters', '##ete', 'imaging', 'Anastasia', '[unused44]',\n",
       "       '##cey', 'satisfaction', 'ë', '##tana', '##amed', '##om',\n",
       "       'teaching', 'Engineer', 'ownership', 'Produced', 'Diana', '##sui',\n",
       "       'shareholders', 'installation', 'Nazi', '78', 'Baronet', 'prior',\n",
       "       'ideal', '##iard', 'caught', 'Articles', '##dam', 'roommate',\n",
       "       'appreciate', 'Sabrina', 'è', 'paradigm', '##aga'], dtype='<U18')"
      ]
     },
     "execution_count": 85,
     "metadata": {},
     "output_type": "execute_result"
    }
   ],
   "source": [
    "np.random.choice(list(tokenizer.vocab.keys()), size=200)"
   ]
  },
  {
   "cell_type": "code",
   "execution_count": 275,
   "metadata": {},
   "outputs": [],
   "source": [
    "# text = tokenizer.tokenize('this is a simple test sentence.')\n",
    "# text = tokenizer.tokenize('certain methods handle self-referential sentences poorly.')\n",
    "# text = tokenizer.tokenize('who was jim henson?')\n",
    "# text = tokenizer.tokenize('Is there life on Mars?')\n",
    "# text = tokenizer.tokenize('The Occupation of Alcatraz was an occupation of Alcatraz Island by 89 American Indians and supporters, led by Richard Oakes, LaNada Means, and others.')\n",
    "text = tokenizer.tokenize('Beam search uses breadth-first search to build its search tree.')\n",
    "# response = tokenizer.tokenize('jim henson was a puppeteer')\n",
    "# response = ['[MASK]']*5 + ['!']\n",
    "# response = list(np.random.choice([t for t in tokenizer.vocab if not t.startswith('[unused')], size=5)) + ['.']\n",
    "# response = tokenizer.tokenize('so is this one.')\n",
    "# response = tokenizer.tokenize('however, some may perform better than others.')\n",
    "# response = tokenizer.tokenize('They chose the name Indians of All Tribes and John Trudell was the spokesperson.')\n",
    "response = tokenizer.tokenize('At each level of the tree, it generates all successors of the states at the current level, sorting them in increasing order of heuristic cost')\n",
    "response = ['[MASK]']*(len(response)-1) + ['.']\n",
    "# response[0] = '[MASK]'\n",
    "# response[3] = '[MASK]'\n",
    "# response[5] = '[MASK]'"
   ]
  },
  {
   "cell_type": "code",
   "execution_count": 284,
   "metadata": {},
   "outputs": [],
   "source": [
    "# tokens = torch.tensor(tokenizer.convert_tokens_to_ids(text+response))\n",
    "tokens = torch.tensor(tokenizer.convert_tokens_to_ids(['[CLS]']+text+['[SEP]']+response))\n",
    "# segments = torch.tensor([0]*len(text) + [1]*len(response))\n",
    "segments = torch.tensor([0]*(len(text)+2) + [1]*len(response))"
   ]
  },
  {
   "cell_type": "code",
   "execution_count": 285,
   "metadata": {},
   "outputs": [],
   "source": [
    "token_prior = torch.tensor([1.0]*len(tokenizer.vocab))\n",
    "# token_prior[1012] *= 0\n",
    "# token_prior[[1000, 1006, 1007, 1010]] *= 0.1"
   ]
  },
  {
   "cell_type": "code",
   "execution_count": null,
   "metadata": {},
   "outputs": [],
   "source": [
    "display(' '.join(tokenizer.convert_ids_to_tokens(np.array(tokens))))"
   ]
  },
  {
   "cell_type": "code",
   "execution_count": 299,
   "metadata": {},
   "outputs": [],
   "source": [
    "def display_text(t):\n",
    "    display(' '.join(tokenizer.convert_ids_to_tokens(np.array(t))).replace(' ##', ''))"
   ]
  },
  {
   "cell_type": "code",
   "execution_count": 302,
   "metadata": {},
   "outputs": [
    {
     "data": {
      "text/plain": [
       "'[MASK] [MASK] [MASK] [MASK] [MASK] [MASK] [MASK] [MASK] [MASK] [MASK] [MASK] [MASK] [MASK] [MASK] [MASK] [MASK] [MASK] [MASK] [MASK] [MASK] [MASK] [MASK] [MASK] [MASK] [MASK] [MASK] [MASK] .'"
      ]
     },
     "metadata": {},
     "output_type": "display_data"
    },
    {
     "data": {
      "text/plain": [
       "'[MASK] [MASK] [MASK] [MASK] [MASK] [MASK] [MASK] [MASK] [MASK] [MASK] [MASK] . [MASK] [MASK] [MASK] [MASK] [MASK] [MASK] [MASK] [MASK] [MASK] [MASK] [MASK] [MASK] [MASK] [MASK] [MASK] .'"
      ]
     },
     "metadata": {},
     "output_type": "display_data"
    },
    {
     "data": {
      "text/plain": [
       "'[MASK] [MASK] [MASK] [MASK] - [MASK] [MASK] [MASK] [MASK] [MASK] [MASK] . [MASK] [MASK] [MASK] [MASK] [MASK] [MASK] [MASK] [MASK] [MASK] [MASK] [MASK] [MASK] [MASK] [MASK] [MASK] .'"
      ]
     },
     "metadata": {},
     "output_type": "display_data"
    },
    {
     "data": {
      "text/plain": [
       "'[MASK] [MASK] - [MASK] - [MASK] [MASK] [MASK] [MASK] [MASK] [MASK] . [MASK] [MASK] [MASK] [MASK] [MASK] [MASK] [MASK] [MASK] [MASK] [MASK] [MASK] [MASK] [MASK] [MASK] [MASK] .'"
      ]
     },
     "metadata": {},
     "output_type": "display_data"
    },
    {
     "data": {
      "text/plain": [
       "'[MASK] [MASK] - to - [MASK] [MASK] [MASK] [MASK] [MASK] [MASK] . [MASK] [MASK] [MASK] [MASK] [MASK] [MASK] [MASK] [MASK] [MASK] [MASK] [MASK] [MASK] [MASK] [MASK] [MASK] .'"
      ]
     },
     "metadata": {},
     "output_type": "display_data"
    },
    {
     "data": {
      "text/plain": [
       "'[MASK] [MASK] - to - [MASK] search [MASK] [MASK] [MASK] [MASK] . [MASK] [MASK] [MASK] [MASK] [MASK] [MASK] [MASK] [MASK] [MASK] [MASK] [MASK] [MASK] [MASK] [MASK] [MASK] .'"
      ]
     },
     "metadata": {},
     "output_type": "display_data"
    },
    {
     "data": {
      "text/plain": [
       "'[MASK] [MASK] - to - end search [MASK] [MASK] [MASK] [MASK] . [MASK] [MASK] [MASK] [MASK] [MASK] [MASK] [MASK] [MASK] [MASK] [MASK] [MASK] [MASK] [MASK] [MASK] [MASK] .'"
      ]
     },
     "metadata": {},
     "output_type": "display_data"
    },
    {
     "data": {
      "text/plain": [
       "'[MASK] end - to - end search [MASK] [MASK] [MASK] [MASK] . [MASK] [MASK] [MASK] [MASK] [MASK] [MASK] [MASK] [MASK] [MASK] [MASK] [MASK] [MASK] [MASK] [MASK] [MASK] .'"
      ]
     },
     "metadata": {},
     "output_type": "display_data"
    },
    {
     "data": {
      "text/plain": [
       "'The end - to - end search [MASK] [MASK] [MASK] [MASK] . [MASK] [MASK] [MASK] [MASK] [MASK] [MASK] [MASK] [MASK] [MASK] [MASK] [MASK] [MASK] [MASK] [MASK] [MASK] .'"
      ]
     },
     "metadata": {},
     "output_type": "display_data"
    },
    {
     "data": {
      "text/plain": [
       "'The end - to - end search [MASK] is [MASK] [MASK] . [MASK] [MASK] [MASK] [MASK] [MASK] [MASK] [MASK] [MASK] [MASK] [MASK] [MASK] [MASK] [MASK] [MASK] [MASK] .'"
      ]
     },
     "metadata": {},
     "output_type": "display_data"
    },
    {
     "data": {
      "text/plain": [
       "'The end - to - end search tree is [MASK] [MASK] . [MASK] [MASK] [MASK] [MASK] [MASK] [MASK] [MASK] [MASK] [MASK] [MASK] [MASK] [MASK] [MASK] [MASK] [MASK] .'"
      ]
     },
     "metadata": {},
     "output_type": "display_data"
    },
    {
     "data": {
      "text/plain": [
       "'The end - to - end search tree is [MASK] [MASK] . [MASK] [MASK] [MASK] , [MASK] [MASK] [MASK] [MASK] [MASK] [MASK] [MASK] [MASK] [MASK] [MASK] [MASK] .'"
      ]
     },
     "metadata": {},
     "output_type": "display_data"
    },
    {
     "data": {
      "text/plain": [
       "'The end - to - end search tree is [MASK] [MASK] . [MASK] [MASK] search , [MASK] [MASK] [MASK] [MASK] [MASK] [MASK] [MASK] [MASK] [MASK] [MASK] [MASK] .'"
      ]
     },
     "metadata": {},
     "output_type": "display_data"
    },
    {
     "data": {
      "text/plain": [
       "'The end - to - end search tree is [MASK] [MASK] . For [MASK] search , [MASK] [MASK] [MASK] [MASK] [MASK] [MASK] [MASK] [MASK] [MASK] [MASK] [MASK] .'"
      ]
     },
     "metadata": {},
     "output_type": "display_data"
    },
    {
     "data": {
      "text/plain": [
       "'The end - to - end search tree is [MASK] [MASK] . For [MASK] search , [MASK] [MASK] [MASK] , [MASK] [MASK] [MASK] [MASK] [MASK] [MASK] [MASK] .'"
      ]
     },
     "metadata": {},
     "output_type": "display_data"
    },
    {
     "data": {
      "text/plain": [
       "'The end - to - end search tree is [MASK] [MASK] . For [MASK] search , [MASK] , [MASK] , [MASK] [MASK] [MASK] [MASK] [MASK] [MASK] [MASK] .'"
      ]
     },
     "metadata": {},
     "output_type": "display_data"
    },
    {
     "data": {
      "text/plain": [
       "'The end - to - end search tree is [MASK] [MASK] . For [MASK] search , [MASK] , [MASK] , [MASK] [MASK] . [MASK] [MASK] [MASK] [MASK] .'"
      ]
     },
     "metadata": {},
     "output_type": "display_data"
    },
    {
     "data": {
      "text/plain": [
       "'The end - to - end search tree is [MASK] [MASK] . For [MASK] search , [MASK] , [MASK] , and [MASK] . [MASK] [MASK] [MASK] [MASK] .'"
      ]
     },
     "metadata": {},
     "output_type": "display_data"
    },
    {
     "data": {
      "text/plain": [
       "'The end - to - end search tree is [MASK] [MASK] . For [MASK] search , [MASK] , [MASK] , and [MASK] . See [MASK] [MASK] [MASK] .'"
      ]
     },
     "metadata": {},
     "output_type": "display_data"
    },
    {
     "data": {
      "text/plain": [
       "'The end - to - end search tree is [MASK] [MASK] . For [MASK] search , [MASK] , [MASK] , and [MASK] . See [MASK] search [MASK] .'"
      ]
     },
     "metadata": {},
     "output_type": "display_data"
    },
    {
     "data": {
      "text/plain": [
       "'The end - to - end search tree is [MASK] [MASK] . For [MASK] search , [MASK] , [MASK] , and [MASK] . See [MASK] search tree .'"
      ]
     },
     "metadata": {},
     "output_type": "display_data"
    },
    {
     "data": {
      "text/plain": [
       "'The end - to - end search tree is [MASK] [MASK] . For [MASK] search , search , [MASK] , and [MASK] . See [MASK] search tree .'"
      ]
     },
     "metadata": {},
     "output_type": "display_data"
    },
    {
     "data": {
      "text/plain": [
       "'The end - to - end search tree is [MASK] [MASK] . For [MASK] search , search , [MASK] , and search . See [MASK] search tree .'"
      ]
     },
     "metadata": {},
     "output_type": "display_data"
    },
    {
     "data": {
      "text/plain": [
       "'The end - to - end search tree is [MASK] [MASK] . For [MASK] search , search , search , and search . See [MASK] search tree .'"
      ]
     },
     "metadata": {},
     "output_type": "display_data"
    },
    {
     "data": {
      "text/plain": [
       "'The end - to - end search tree is called [MASK] . For [MASK] search , search , search , and search . See [MASK] search tree .'"
      ]
     },
     "metadata": {},
     "output_type": "display_data"
    },
    {
     "data": {
      "text/plain": [
       "'The end - to - end search tree is called search . For [MASK] search , search , search , and search . See [MASK] search tree .'"
      ]
     },
     "metadata": {},
     "output_type": "display_data"
    },
    {
     "data": {
      "text/plain": [
       "'The end - to - end search tree is called search . For [MASK] search , search , search , and search . See also search tree .'"
      ]
     },
     "metadata": {},
     "output_type": "display_data"
    },
    {
     "data": {
      "text/plain": [
       "'The end - to - end search tree is called search . For example search , search , search , and search . See also search tree .'"
      ]
     },
     "metadata": {},
     "output_type": "display_data"
    }
   ],
   "source": [
    "# deterministically fix the most confident [MASK] token one at a time (resembles beam search with size 1?)\n",
    "pred_tokens = tokens.clone()\n",
    "idxs_to_predict = [i for i,t in enumerate(tokens) if t==103]\n",
    "while True:\n",
    "    display_text(pred_tokens[len(text)+2:])\n",
    "    \n",
    "    if not len(idxs_to_predict): break\n",
    "    \n",
    "    pred = (\n",
    "        (model(pred_tokens.unsqueeze(dim=0), segments.unsqueeze(dim=0))[0]*token_prior)\n",
    "        .index_select(0, torch.LongTensor(idxs_to_predict))\n",
    "        )\n",
    "    \n",
    "    p, i = torch.max(pred, dim=1)\n",
    "    most_confident_idx = torch.argmax(p).item()\n",
    "    token_id = i[most_confident_idx].item()\n",
    "    pred_tokens[idxs_to_predict[most_confident_idx]] = token_id\n",
    "    del idxs_to_predict[most_confident_idx]"
   ]
  },
  {
   "cell_type": "code",
   "execution_count": 303,
   "metadata": {},
   "outputs": [
    {
     "data": {
      "text/plain": [
       "'Beam search uses breadth - first search to build its search tree .'"
      ]
     },
     "metadata": {},
     "output_type": "display_data"
    },
    {
     "data": {
      "text/plain": [
       "'Federal offer - - = his - , , out . a - = , - - . ,dcher couldN carder andp .'"
      ]
     },
     "metadata": {},
     "output_type": "display_data"
    },
    {
     "data": {
      "text/plain": [
       "\"' offer - - = his - , , out . a - = , - - . ,d , andN carder andp .\""
      ]
     },
     "metadata": {},
     "output_type": "display_data"
    },
    {
     "data": {
      "text/plain": [
       "\"' end - - = - - , , out . a - = , - - . ,d , and ' carder andp .\""
      ]
     },
     "metadata": {},
     "output_type": "display_data"
    },
    {
     "data": {
      "text/plain": [
       "\"' end - - = - - , , out . a - = , - - . ,d , . ' 'er andp .\""
      ]
     },
     "metadata": {},
     "output_type": "display_data"
    },
    {
     "data": {
      "text/plain": [
       "\"' end - - = - - , , out . a - = , - - . ,d , . ' ' The andp .\""
      ]
     },
     "metadata": {},
     "output_type": "display_data"
    },
    {
     "data": {
      "text/plain": [
       "\"' add - - = - - , , out . a - = , - - . ,d , . ' ' The andp .\""
      ]
     },
     "metadata": {},
     "output_type": "display_data"
    },
    {
     "data": {
      "text/plain": [
       "\"' add - - = - - , , Out . a - = , - - . ,d , . ' ' The thatp .\""
      ]
     },
     "metadata": {},
     "output_type": "display_data"
    },
    {
     "data": {
      "text/plain": [
       "\"' add - - = - - , , 100 . a - = , - - . ,d , . ' ' . ap .\""
      ]
     },
     "metadata": {},
     "output_type": "display_data"
    },
    {
     "data": {
      "text/plain": [
       "\"' add - - = - - , , here . a - = , - - . ,d , . ' ' . ap .\""
      ]
     },
     "metadata": {},
     "output_type": "display_data"
    },
    {
     "data": {
      "text/plain": [
       "\"' add - - = - - , , here . a - = , - - . ,d , . ' ' . ap .\""
      ]
     },
     "metadata": {},
     "output_type": "display_data"
    },
    {
     "data": {
      "text/plain": [
       "\"' add - - = - - , , here . a - = , - - . ,d , . ' ' . ap .\""
      ]
     },
     "metadata": {},
     "output_type": "display_data"
    },
    {
     "data": {
      "text/plain": [
       "\"' add - - = - - , , here . a - = , - - . ,d , . ' ' . ap .\""
      ]
     },
     "metadata": {},
     "output_type": "display_data"
    },
    {
     "data": {
      "text/plain": [
       "\"' add - - = - - , , here . a - = , - - . ,d , . ' ' . ap .\""
      ]
     },
     "metadata": {},
     "output_type": "display_data"
    },
    {
     "data": {
      "text/plain": [
       "\"' add - - = - - , , except . a - = , - - . ,d , . ' ' . ap .\""
      ]
     },
     "metadata": {},
     "output_type": "display_data"
    },
    {
     "data": {
      "text/plain": [
       "\"' add - - = - - , , * . a - = , - - . ,d , . ' ' . ap .\""
      ]
     },
     "metadata": {},
     "output_type": "display_data"
    },
    {
     "data": {
      "text/plain": [
       "\"' add - - = - - , , * . a - = , - - . ,d , . ' ' . ap .\""
      ]
     },
     "metadata": {},
     "output_type": "display_data"
    },
    {
     "data": {
      "text/plain": [
       "\"' add - - = - - , , * . a - = , - - . ,d , . ' ' . ap .\""
      ]
     },
     "metadata": {},
     "output_type": "display_data"
    },
    {
     "data": {
      "text/plain": [
       "\"' add - - = - - , , * . a - = , - - . , how , . ' ' . ap .\""
      ]
     },
     "metadata": {},
     "output_type": "display_data"
    },
    {
     "data": {
      "text/plain": [
       "\"' add - - = - - , , * . a - = , - - . , , , . ' ' . ap .\""
      ]
     },
     "metadata": {},
     "output_type": "display_data"
    },
    {
     "data": {
      "text/plain": [
       "\"' add - - = - - , , * . a - = , - - . , , , . ' ' . ap .\""
      ]
     },
     "metadata": {},
     "output_type": "display_data"
    },
    {
     "data": {
      "text/plain": [
       "\"' add - - = - - , , * . a - = , - - . , , , . ' ' . ap .\""
      ]
     },
     "metadata": {},
     "output_type": "display_data"
    },
    {
     "data": {
      "text/plain": [
       "\"' add - - = - - , , * . a - = , - - . , , , . ' ' . ap .\""
      ]
     },
     "metadata": {},
     "output_type": "display_data"
    },
    {
     "data": {
      "text/plain": [
       "\"' add - - = - - , , * . a - = , - - . , , , . ' ' . ap .\""
      ]
     },
     "metadata": {},
     "output_type": "display_data"
    },
    {
     "data": {
      "text/plain": [
       "\"' add - - = - - , , * . a - = , - - . , , , . ' ' . ap .\""
      ]
     },
     "metadata": {},
     "output_type": "display_data"
    },
    {
     "data": {
      "text/plain": [
       "\"' add - - = - - , , * . a - = , - - . , , , . ' ' . ap .\""
      ]
     },
     "metadata": {},
     "output_type": "display_data"
    },
    {
     "data": {
      "text/plain": [
       "\"' add - - = - - , , * . a - = , - - . , , , . ' ' . ap .\""
      ]
     },
     "metadata": {},
     "output_type": "display_data"
    },
    {
     "data": {
      "text/plain": [
       "\"' add - - = - - , , * . a - = , - - . , , , . ' ' . ap .\""
      ]
     },
     "metadata": {},
     "output_type": "display_data"
    },
    {
     "data": {
      "text/plain": [
       "\"' add - - = - - , , * . a - = , - - . , , , . and ' . ap .\""
      ]
     },
     "metadata": {},
     "output_type": "display_data"
    },
    {
     "data": {
      "text/plain": [
       "\"' add - - = - - , , * . a - = , - - . , , , . and ' . ap .\""
      ]
     },
     "metadata": {},
     "output_type": "display_data"
    },
    {
     "data": {
      "text/plain": [
       "\"' add - - = - - , , * . a - = , - - . , , , . , ' . ap .\""
      ]
     },
     "metadata": {},
     "output_type": "display_data"
    },
    {
     "data": {
      "text/plain": [
       "\"' add - - = - - , , * . a - = , - - . , , , . , ' . ap .\""
      ]
     },
     "metadata": {},
     "output_type": "display_data"
    },
    {
     "data": {
      "text/plain": [
       "\"' add - - = - - , , * . a - = , - - . , , , . , ' . ap .\""
      ]
     },
     "metadata": {},
     "output_type": "display_data"
    }
   ],
   "source": [
    "# iteratively sample from naive joint distribution \n",
    "# does not resemble data distribution but generates pretty concrete poetry\n",
    "display_text(pred_tokens[1:len(text)+1])\n",
    "pred_tokens = tokens.clone()\n",
    "for _ in range(32):\n",
    "#     display(' '.join(tokenizer.convert_ids_to_tokens(np.array(pred_tokens))).replace(' ##', ''))   \n",
    "    pred_tokens[len(text)+2:] = model(pred_tokens.unsqueeze(dim=0), segments.unsqueeze(dim=0))[0, len(text)+2:].exp().multinomial(1).flatten()\n",
    "    display_text(pred_tokens[len(text)+2:])\n"
   ]
  },
  {
   "cell_type": "code",
   "execution_count": 304,
   "metadata": {},
   "outputs": [
    {
     "data": {
      "text/plain": [
       "'intrinsic [MASK] [MASK] [MASK] [MASK] [MASK] [MASK] [MASK] [MASK] [MASK] [MASK] [MASK] [MASK] [MASK] [MASK] [MASK] [MASK] [MASK] [MASK] [MASK] [MASK] [MASK] [MASK] [MASK] [MASK] [MASK] [MASK] .'"
      ]
     },
     "metadata": {},
     "output_type": "display_data"
    },
    {
     "data": {
      "text/plain": [
       "'intrinsic Horn [MASK] [MASK] [MASK] [MASK] [MASK] [MASK] [MASK] [MASK] [MASK] [MASK] [MASK] [MASK] [MASK] [MASK] [MASK] [MASK] [MASK] [MASK] [MASK] [MASK] [MASK] [MASK] [MASK] [MASK] [MASK] .'"
      ]
     },
     "metadata": {},
     "output_type": "display_data"
    },
    {
     "data": {
      "text/plain": [
       "'intrinsic Horn String [MASK] [MASK] [MASK] [MASK] [MASK] [MASK] [MASK] [MASK] [MASK] [MASK] [MASK] [MASK] [MASK] [MASK] [MASK] [MASK] [MASK] [MASK] [MASK] [MASK] [MASK] [MASK] [MASK] [MASK] .'"
      ]
     },
     "metadata": {},
     "output_type": "display_data"
    },
    {
     "data": {
      "text/plain": [
       "'intrinsic Horn Strings [MASK] [MASK] [MASK] [MASK] [MASK] [MASK] [MASK] [MASK] [MASK] [MASK] [MASK] [MASK] [MASK] [MASK] [MASK] [MASK] [MASK] [MASK] [MASK] [MASK] [MASK] [MASK] [MASK] .'"
      ]
     },
     "metadata": {},
     "output_type": "display_data"
    },
    {
     "data": {
      "text/plain": [
       "'intrinsic Horn Strings < [MASK] [MASK] [MASK] [MASK] [MASK] [MASK] [MASK] [MASK] [MASK] [MASK] [MASK] [MASK] [MASK] [MASK] [MASK] [MASK] [MASK] [MASK] [MASK] [MASK] [MASK] [MASK] .'"
      ]
     },
     "metadata": {},
     "output_type": "display_data"
    },
    {
     "data": {
      "text/plain": [
       "'intrinsic Horn Strings < + [MASK] [MASK] [MASK] [MASK] [MASK] [MASK] [MASK] [MASK] [MASK] [MASK] [MASK] [MASK] [MASK] [MASK] [MASK] [MASK] [MASK] [MASK] [MASK] [MASK] [MASK] .'"
      ]
     },
     "metadata": {},
     "output_type": "display_data"
    },
    {
     "data": {
      "text/plain": [
       "'intrinsic Horn Strings < + < [MASK] [MASK] [MASK] [MASK] [MASK] [MASK] [MASK] [MASK] [MASK] [MASK] [MASK] [MASK] [MASK] [MASK] [MASK] [MASK] [MASK] [MASK] [MASK] [MASK] .'"
      ]
     },
     "metadata": {},
     "output_type": "display_data"
    },
    {
     "data": {
      "text/plain": [
       "'intrinsic Horn Strings < + < < [MASK] [MASK] [MASK] [MASK] [MASK] [MASK] [MASK] [MASK] [MASK] [MASK] [MASK] [MASK] [MASK] [MASK] [MASK] [MASK] [MASK] [MASK] [MASK] .'"
      ]
     },
     "metadata": {},
     "output_type": "display_data"
    },
    {
     "data": {
      "text/plain": [
       "'intrinsic Horn Strings < + < < < [MASK] [MASK] [MASK] [MASK] [MASK] [MASK] [MASK] [MASK] [MASK] [MASK] [MASK] [MASK] [MASK] [MASK] [MASK] [MASK] [MASK] [MASK] .'"
      ]
     },
     "metadata": {},
     "output_type": "display_data"
    },
    {
     "data": {
      "text/plain": [
       "'intrinsic Horn Strings < + < < < < [MASK] [MASK] [MASK] [MASK] [MASK] [MASK] [MASK] [MASK] [MASK] [MASK] [MASK] [MASK] [MASK] [MASK] [MASK] [MASK] [MASK] .'"
      ]
     },
     "metadata": {},
     "output_type": "display_data"
    },
    {
     "data": {
      "text/plain": [
       "'intrinsic Horn Strings < + < < < < < [MASK] [MASK] [MASK] [MASK] [MASK] [MASK] [MASK] [MASK] [MASK] [MASK] [MASK] [MASK] [MASK] [MASK] [MASK] [MASK] .'"
      ]
     },
     "metadata": {},
     "output_type": "display_data"
    },
    {
     "data": {
      "text/plain": [
       "'intrinsic Horn Strings < + < < < < < < [MASK] [MASK] [MASK] [MASK] [MASK] [MASK] [MASK] [MASK] [MASK] [MASK] [MASK] [MASK] [MASK] [MASK] [MASK] .'"
      ]
     },
     "metadata": {},
     "output_type": "display_data"
    },
    {
     "data": {
      "text/plain": [
       "'intrinsic Horn Strings < + < < < < < < < [MASK] [MASK] [MASK] [MASK] [MASK] [MASK] [MASK] [MASK] [MASK] [MASK] [MASK] [MASK] [MASK] [MASK] .'"
      ]
     },
     "metadata": {},
     "output_type": "display_data"
    },
    {
     "data": {
      "text/plain": [
       "'intrinsic Horn Strings < + < < < < < < < < [MASK] [MASK] [MASK] [MASK] [MASK] [MASK] [MASK] [MASK] [MASK] [MASK] [MASK] [MASK] [MASK] .'"
      ]
     },
     "metadata": {},
     "output_type": "display_data"
    },
    {
     "data": {
      "text/plain": [
       "'intrinsic Horn Strings < + < < < < < < < < < [MASK] [MASK] [MASK] [MASK] [MASK] [MASK] [MASK] [MASK] [MASK] [MASK] [MASK] [MASK] .'"
      ]
     },
     "metadata": {},
     "output_type": "display_data"
    },
    {
     "data": {
      "text/plain": [
       "'intrinsic Horn Strings < + < < < < < < < < < < [MASK] [MASK] [MASK] [MASK] [MASK] [MASK] [MASK] [MASK] [MASK] [MASK] [MASK] .'"
      ]
     },
     "metadata": {},
     "output_type": "display_data"
    },
    {
     "data": {
      "text/plain": [
       "'intrinsic Horn Strings < + < < < < < < < < < < < [MASK] [MASK] [MASK] [MASK] [MASK] [MASK] [MASK] [MASK] [MASK] [MASK] .'"
      ]
     },
     "metadata": {},
     "output_type": "display_data"
    },
    {
     "data": {
      "text/plain": [
       "'intrinsic Horn Strings < + < < < < < < < < < < < < [MASK] [MASK] [MASK] [MASK] [MASK] [MASK] [MASK] [MASK] [MASK] .'"
      ]
     },
     "metadata": {},
     "output_type": "display_data"
    },
    {
     "data": {
      "text/plain": [
       "'intrinsic Horn Strings < + < < < < < < < < < < < < < [MASK] [MASK] [MASK] [MASK] [MASK] [MASK] [MASK] [MASK] .'"
      ]
     },
     "metadata": {},
     "output_type": "display_data"
    },
    {
     "data": {
      "text/plain": [
       "'intrinsic Horn Strings < + < < < < < < < < < < < < < > [MASK] [MASK] [MASK] [MASK] [MASK] [MASK] [MASK] .'"
      ]
     },
     "metadata": {},
     "output_type": "display_data"
    },
    {
     "data": {
      "text/plain": [
       "'intrinsic Horn Strings < + < < < < < < < < < < < < < > Francis [MASK] [MASK] [MASK] [MASK] [MASK] [MASK] .'"
      ]
     },
     "metadata": {},
     "output_type": "display_data"
    },
    {
     "data": {
      "text/plain": [
       "\"intrinsic Horn Strings < + < < < < < < < < < < < < < > Francis ' [MASK] [MASK] [MASK] [MASK] [MASK] .\""
      ]
     },
     "metadata": {},
     "output_type": "display_data"
    },
    {
     "data": {
      "text/plain": [
       "\"intrinsic Horn Strings < + < < < < < < < < < < < < < > Francis ' s [MASK] [MASK] [MASK] [MASK] .\""
      ]
     },
     "metadata": {},
     "output_type": "display_data"
    },
    {
     "data": {
      "text/plain": [
       "\"intrinsic Horn Strings < + < < < < < < < < < < < < < > Francis ' s top [MASK] [MASK] [MASK] .\""
      ]
     },
     "metadata": {},
     "output_type": "display_data"
    },
    {
     "data": {
      "text/plain": [
       "\"intrinsic Horn Strings < + < < < < < < < < < < < < < > Francis ' s top search [MASK] [MASK] .\""
      ]
     },
     "metadata": {},
     "output_type": "display_data"
    },
    {
     "data": {
      "text/plain": [
       "\"intrinsic Horn Strings < + < < < < < < < < < < < < < > Francis ' s top search group [MASK] .\""
      ]
     },
     "metadata": {},
     "output_type": "display_data"
    },
    {
     "data": {
      "text/plain": [
       "\"intrinsic Horn Strings < + < < < < < < < < < < < < < > Francis ' s top search group [SEP] .\""
      ]
     },
     "metadata": {},
     "output_type": "display_data"
    },
    {
     "data": {
      "text/plain": [
       "\"intrinsic Horn Strings < + < < < < < < < < < < < < < > Francis ' s top search group [SEP] .\""
      ]
     },
     "metadata": {},
     "output_type": "display_data"
    }
   ],
   "source": [
    "# iteratively sample tokens from softmax, left to right\n",
    "pred_tokens = tokens.clone()\n",
    "for i in range(len(text)+2, len(tokens)):\n",
    "    pred_tokens[i] = model(pred_tokens.unsqueeze(dim=0), segments.unsqueeze(dim=0))[0, i].exp().multinomial(1).item()\n",
    "    display_text(pred_tokens[len(text)+2:])\n"
   ]
  },
  {
   "cell_type": "code",
   "execution_count": 289,
   "metadata": {},
   "outputs": [],
   "source": [
    "# # iteratively sample from second sentence, one random position at a time\n",
    "# pred_tokens = tokens.clone()\n",
    "# it = 0\n",
    "# while it < 4*len(response) or 103 in pred_tokens:\n",
    "#     it+=1\n",
    "#     i = np.random.randint(len(text)+2, len(tokens))\n",
    "#     pred_tokens[i] = model(pred_tokens.unsqueeze(dim=0), segments.unsqueeze(dim=0))[0, i].exp().multinomial(1).item()\n",
    "#     display_text(pred_tokens[len(text)+2:])"
   ]
  },
  {
   "cell_type": "code",
   "execution_count": 307,
   "metadata": {},
   "outputs": [
    {
     "data": {
      "text/plain": [
       "'[MASK] [MASK] [MASK] [MASK] [MASK] [MASK] [MASK] [MASK] [MASK] [MASK] [MASK] [MASK] [MASK] [MASK] [MASK] [MASK] [MASK] [MASK] [MASK] [MASK] [MASK] [MASK] [MASK] [MASK] [MASK] [MASK] ? .'"
      ]
     },
     "metadata": {},
     "output_type": "display_data"
    },
    {
     "data": {
      "text/plain": [
       "'[MASK] [MASK] [MASK] [MASK] [MASK] [MASK] [MASK] [MASK] [MASK] [MASK] [MASK] [MASK] [MASK] [MASK] [MASK] [MASK] [MASK] [MASK] [MASK] [MASK] [MASK] [MASK] [MASK] [MASK] [MASK] & ? .'"
      ]
     },
     "metadata": {},
     "output_type": "display_data"
    },
    {
     "data": {
      "text/plain": [
       "'[MASK]ick [MASK] [MASK] [MASK] [MASK] [MASK] [MASK] [MASK] [MASK] [MASK] [MASK] [MASK] [MASK] [MASK] [MASK] [MASK] [MASK] [MASK] [MASK] [MASK] [MASK] [MASK] [MASK] [MASK] & ? .'"
      ]
     },
     "metadata": {},
     "output_type": "display_data"
    },
    {
     "data": {
      "text/plain": [
       "'[MASK]ick , [MASK] [MASK] [MASK] [MASK] [MASK] [MASK] [MASK] [MASK] [MASK] [MASK] [MASK] [MASK] [MASK] [MASK] [MASK] [MASK] [MASK] [MASK] [MASK] [MASK] [MASK] [MASK] & ? .'"
      ]
     },
     "metadata": {},
     "output_type": "display_data"
    },
    {
     "data": {
      "text/plain": [
       "'[MASK]ick , x [MASK] [MASK] [MASK] [MASK] [MASK] [MASK] [MASK] [MASK] [MASK] [MASK] [MASK] [MASK] [MASK] [MASK] [MASK] [MASK] [MASK] [MASK] [MASK] [MASK] [MASK] & ? .'"
      ]
     },
     "metadata": {},
     "output_type": "display_data"
    },
    {
     "data": {
      "text/plain": [
       "'[MASK]ick , x / [MASK] [MASK] [MASK] [MASK] [MASK] [MASK] [MASK] [MASK] [MASK] [MASK] [MASK] [MASK] [MASK] [MASK] [MASK] [MASK] [MASK] [MASK] [MASK] [MASK] & ? .'"
      ]
     },
     "metadata": {},
     "output_type": "display_data"
    },
    {
     "data": {
      "text/plain": [
       "'[MASK]ick , x / , [MASK] [MASK] [MASK] [MASK] [MASK] [MASK] [MASK] [MASK] [MASK] [MASK] [MASK] [MASK] [MASK] [MASK] [MASK] [MASK] [MASK] [MASK] [MASK] & ? .'"
      ]
     },
     "metadata": {},
     "output_type": "display_data"
    },
    {
     "data": {
      "text/plain": [
       "'[MASK] , , x / , [MASK] [MASK] [MASK] [MASK] [MASK] [MASK] [MASK] [MASK] [MASK] [MASK] [MASK] [MASK] [MASK] [MASK] [MASK] [MASK] [MASK] [MASK] [MASK] & ? .'"
      ]
     },
     "metadata": {},
     "output_type": "display_data"
    },
    {
     "data": {
      "text/plain": [
       "'[MASK] , , x / , [MASK] [MASK] [MASK] [MASK] [MASK] [MASK] [MASK] [MASK] [MASK] [MASK] [MASK] [MASK] [MASK] [MASK] [MASK] = [MASK] [MASK] [MASK] & ? .'"
      ]
     },
     "metadata": {},
     "output_type": "display_data"
    },
    {
     "data": {
      "text/plain": [
       "'[MASK] , , x / , [MASK] [MASK] [MASK] [MASK] [MASK] [MASK] [MASK] [MASK] [MASK] [MASK] [MASK] [MASK] [MASK] [MASK] ? = [MASK] [MASK] [MASK] & ? .'"
      ]
     },
     "metadata": {},
     "output_type": "display_data"
    },
    {
     "data": {
      "text/plain": [
       "'[MASK] , , x / , [MASK] [MASK] [MASK] [MASK] [MASK] [MASK] [MASK] [MASK] [MASK] [MASK] [MASK] [MASK] [MASK] [MASK] ? = < [MASK] [MASK] & ? .'"
      ]
     },
     "metadata": {},
     "output_type": "display_data"
    },
    {
     "data": {
      "text/plain": [
       "'[MASK] , , x / , [MASK] [MASK] [MASK] [MASK] [MASK] [MASK] [MASK] [MASK] [MASK] ( [MASK] [MASK] [MASK] [MASK] ? = < [MASK] [MASK] & ? .'"
      ]
     },
     "metadata": {},
     "output_type": "display_data"
    },
    {
     "data": {
      "text/plain": [
       "'[MASK] , , x / , [MASK] [MASK] [MASK] [MASK] [MASK] [MASK] [MASK] [MASK] \" ( [MASK] [MASK] [MASK] [MASK] ? = < [MASK] [MASK] & ? .'"
      ]
     },
     "metadata": {},
     "output_type": "display_data"
    },
    {
     "data": {
      "text/plain": [
       "'[MASK] , , x / , [MASK] [MASK] [MASK] [MASK] [MASK] [MASK] [MASK] [MASK] \" ( \" [MASK] [MASK] [MASK] ? = < [MASK] [MASK] & ? .'"
      ]
     },
     "metadata": {},
     "output_type": "display_data"
    },
    {
     "data": {
      "text/plain": [
       "'[MASK] , , x / , [MASK] [MASK] [MASK] [MASK] [MASK] [MASK] [MASK] = \" ( \" [MASK] [MASK] [MASK] ? = < [MASK] [MASK] & ? .'"
      ]
     },
     "metadata": {},
     "output_type": "display_data"
    },
    {
     "data": {
      "text/plain": [
       "'[MASK] , , x / , [MASK] [MASK] [MASK] [MASK] ; [MASK] [MASK] = \" ( \" [MASK] [MASK] [MASK] ? = < [MASK] [MASK] & ? .'"
      ]
     },
     "metadata": {},
     "output_type": "display_data"
    },
    {
     "data": {
      "text/plain": [
       "'[MASK] , , x / , [MASK] [MASK] [MASK] \" ; [MASK] [MASK] = \" ( \" [MASK] [MASK] [MASK] ? = < [MASK] [MASK] & ? .'"
      ]
     },
     "metadata": {},
     "output_type": "display_data"
    },
    {
     "data": {
      "text/plain": [
       "'[MASK] , , x / , [MASK] [MASK] [MASK] \" ; [MASK] [MASK] = \" ( \" [MASK] [MASK] [MASK] ? = < & [MASK] & ? .'"
      ]
     },
     "metadata": {},
     "output_type": "display_data"
    },
    {
     "data": {
      "text/plain": [
       "'/ , , x / , [MASK] [MASK] [MASK] \" ; [MASK] [MASK] = \" ( \" [MASK] [MASK] [MASK] ? = < & [MASK] & ? .'"
      ]
     },
     "metadata": {},
     "output_type": "display_data"
    },
    {
     "data": {
      "text/plain": [
       "'/ , , x / , [MASK] [MASK] , \" ; [MASK] [MASK] = \" ( \" [MASK] [MASK] [MASK] ? = < & [MASK] & ? .'"
      ]
     },
     "metadata": {},
     "output_type": "display_data"
    },
    {
     "data": {
      "text/plain": [
       "'/ , , x / , [MASK] [MASK] , \" ; [MASK] ? = \" ( \" [MASK] [MASK] [MASK] ? = < & [MASK] & ? .'"
      ]
     },
     "metadata": {},
     "output_type": "display_data"
    },
    {
     "data": {
      "text/plain": [
       "'/ , , x / , [MASK] [MASK] , \" ; ? ? = \" ( \" [MASK] [MASK] [MASK] ? = < & [MASK] & ? .'"
      ]
     },
     "metadata": {},
     "output_type": "display_data"
    },
    {
     "data": {
      "text/plain": [
       "'/ , , x / , [MASK] [MASK] , \" ; ? ? = \" ( \" [MASK] [MASK] ; ? = < & [MASK] & ? .'"
      ]
     },
     "metadata": {},
     "output_type": "display_data"
    },
    {
     "data": {
      "text/plain": [
       "'/ , , x / , [MASK] [MASK] , \" ; ? ? = \" ( \" [MASK] [MASK] ; ? = < & , & ? .'"
      ]
     },
     "metadata": {},
     "output_type": "display_data"
    },
    {
     "data": {
      "text/plain": [
       "'/ , , x / , [MASK] [MASK] , \" ; ? ? = \" ( \" [MASK] [MASK] ; ? = < & , & ? .'"
      ]
     },
     "metadata": {},
     "output_type": "display_data"
    },
    {
     "data": {
      "text/plain": [
       "'/ , , x / , [MASK] [MASK] , \" ; ? ? = \" ( \" [MASK] [MASK] ; ? = < & , & ? .'"
      ]
     },
     "metadata": {},
     "output_type": "display_data"
    },
    {
     "data": {
      "text/plain": [
       "'/ , , x / , [MASK] [MASK] , \" ; ? ? = \" ( \" [MASK] [MASK] ; ? = < & , & ? .'"
      ]
     },
     "metadata": {},
     "output_type": "display_data"
    },
    {
     "data": {
      "text/plain": [
       "'/ , , x / , [MASK] [MASK] , \" ; ? ? = \" ( \" [MASK] [MASK] ; ? = < & , & ? .'"
      ]
     },
     "metadata": {},
     "output_type": "display_data"
    },
    {
     "data": {
      "text/plain": [
       "'/ , , x / , [MASK] [MASK] , \" ; ? ? = \" ( \" [MASK] [MASK] ; ? = < \" , & ? .'"
      ]
     },
     "metadata": {},
     "output_type": "display_data"
    },
    {
     "data": {
      "text/plain": [
       "'/ , , x / , [MASK] [MASK] , \" ; ? ? = \" ( \" [MASK] ) ; ? = < \" , & ? .'"
      ]
     },
     "metadata": {},
     "output_type": "display_data"
    },
    {
     "data": {
      "text/plain": [
       "'/ , , x / , [MASK] [MASK] , \" ; ? ? = \" ( \" > ) ; ? = < \" , & ? .'"
      ]
     },
     "metadata": {},
     "output_type": "display_data"
    },
    {
     "data": {
      "text/plain": [
       "'/ , , x / , [MASK] [MASK] , \" ; ? ? = \" ( \" > ) ; ? = < \" , / ? .'"
      ]
     },
     "metadata": {},
     "output_type": "display_data"
    },
    {
     "data": {
      "text/plain": [
       "'/ , , x / , [MASK] ( , \" ; ? ? = \" ( \" > ) ; ? = < \" , / ? .'"
      ]
     },
     "metadata": {},
     "output_type": "display_data"
    },
    {
     "data": {
      "text/plain": [
       "'/ , , x / , [MASK] ) , \" ; ? ? = \" ( \" > ) ; ? = < \" , / ? .'"
      ]
     },
     "metadata": {},
     "output_type": "display_data"
    },
    {
     "data": {
      "text/plain": [
       "'/ , , x / , [MASK] ) , \" ; ? ? = \" ( \" > ) ; ? = < \" , / ? .'"
      ]
     },
     "metadata": {},
     "output_type": "display_data"
    },
    {
     "data": {
      "text/plain": [
       "'/ , , x / , [MASK] ) , \" ; ? ? = \" ( \" > ) ; ? = < \" , / ? .'"
      ]
     },
     "metadata": {},
     "output_type": "display_data"
    },
    {
     "data": {
      "text/plain": [
       "'/ , , x / , [MASK] ) , \" ; ? ? = \" ( \" > ) ; ? = < \" , / ? .'"
      ]
     },
     "metadata": {},
     "output_type": "display_data"
    },
    {
     "data": {
      "text/plain": [
       "'/ , , x / , [MASK] ) , \" ; ? ? = \" ( \" > ) ; ? = < \" , / ? .'"
      ]
     },
     "metadata": {},
     "output_type": "display_data"
    },
    {
     "data": {
      "text/plain": [
       "'/ , , x / , [MASK] / , \" ; ? ? = \" ( \" > ) ; ? = < \" , / ? .'"
      ]
     },
     "metadata": {},
     "output_type": "display_data"
    },
    {
     "data": {
      "text/plain": [
       "'/ , , x / , > / , \" ; ? ? = \" ( \" > ) ; ? = < \" , / ? .'"
      ]
     },
     "metadata": {},
     "output_type": "display_data"
    }
   ],
   "source": [
    "# iteratively sample one position at a time, but choose i to have maximum entropy\n",
    "# usually terminates pretty fast but can apparently get stuck with some low-entropy distributions over remaining mask tokens\n",
    "temp = 1\n",
    "pred_tokens = tokens.clone()\n",
    "k = len(text)+2\n",
    "it=0\n",
    "while 103 in pred_tokens and it < 64:# or it < 2*len(response) :\n",
    "    it+=1\n",
    "    pred = model(pred_tokens.unsqueeze(dim=0), segments.unsqueeze(dim=0))[0, k:].exp()\n",
    "    pred /= pred.sum(dim=1, keepdim=True)\n",
    "    ent = -(pred.log() * pred).sum(dim=1)\n",
    "#     display(ent)\n",
    "    i = ent.argmax()\n",
    "    pred_tokens[i+k] = pred[i].pow(1/temp).multinomial(1).item()\n",
    "    display_text(pred_tokens[len(text)+2:])\n"
   ]
  },
  {
   "cell_type": "code",
   "execution_count": 308,
   "metadata": {},
   "outputs": [
    {
     "data": {
      "text/plain": [
       "'[MASK] [MASK] [MASK] [MASK] [MASK] [MASK] [MASK] [MASK] [MASK] [MASK] [MASK] [MASK] [MASK] [MASK] [MASK] [MASK] [MASK] [MASK] [MASK] [MASK] [MASK] [MASK] [MASK] [MASK] [MASK] [MASK] [MASK] .'"
      ]
     },
     "metadata": {},
     "output_type": "display_data"
    },
    {
     "data": {
      "text/plain": [
       "'[MASK] [MASK] [MASK] [MASK] [MASK] [MASK] [MASK] [MASK] [MASK] [MASK] [MASK] [MASK] are [MASK] [MASK] [MASK] [MASK] [MASK] [MASK] [MASK] [MASK] [MASK] [MASK] [MASK] [MASK] [MASK] [MASK] .'"
      ]
     },
     "metadata": {},
     "output_type": "display_data"
    },
    {
     "data": {
      "text/plain": [
       "'[MASK] [MASK] [MASK] [MASK] [MASK] [MASK] [MASK] [MASK] [MASK] & [MASK] [MASK] are [MASK] [MASK] [MASK] [MASK] [MASK] [MASK] [MASK] [MASK] [MASK] [MASK] [MASK] [MASK] [MASK] [MASK] .'"
      ]
     },
     "metadata": {},
     "output_type": "display_data"
    },
    {
     "data": {
      "text/plain": [
       "'[MASK] [MASK] [MASK] [MASK] beat [MASK] [MASK] [MASK] [MASK] & [MASK] [MASK] are [MASK] [MASK] [MASK] [MASK] [MASK] [MASK] [MASK] [MASK] [MASK] [MASK] [MASK] [MASK] [MASK] [MASK] .'"
      ]
     },
     "metadata": {},
     "output_type": "display_data"
    },
    {
     "data": {
      "text/plain": [
       "'[MASK] [MASK] [MASK] [MASK] beat [MASK] [MASK] [MASK] [MASK] & [MASK] [MASK] are [MASK] [MASK] [MASK] [MASK] [MASK] [MASK] [MASK] [MASK] [MASK] [MASK] [MASK] [MASK] / [MASK] .'"
      ]
     },
     "metadata": {},
     "output_type": "display_data"
    },
    {
     "data": {
      "text/plain": [
       "'[MASK] [MASK] [MASK] [MASK] beat [MASK] [MASK] [MASK] [MASK] & [MASK] [MASK] are [MASK] [MASK] [MASK] / [MASK] [MASK] [MASK] [MASK] [MASK] [MASK] [MASK] [MASK] / [MASK] .'"
      ]
     },
     "metadata": {},
     "output_type": "display_data"
    },
    {
     "data": {
      "text/plain": [
       "'[MASK] [MASK] [MASK] [MASK] beatme [MASK] [MASK] [MASK] & [MASK] [MASK] are [MASK] [MASK] [MASK] / [MASK] [MASK] [MASK] [MASK] [MASK] [MASK] [MASK] [MASK] / [MASK] .'"
      ]
     },
     "metadata": {},
     "output_type": "display_data"
    },
    {
     "data": {
      "text/plain": [
       "'[MASK] [MASK] [MASK] [MASK] beatme [MASK] [MASK] [MASK] & [MASK] [MASK] are [MASK] [MASK] [MASK] / [MASK] [MASK] [MASK] [MASK] [MASK] [MASK] [MASK] [MASK] / m .'"
      ]
     },
     "metadata": {},
     "output_type": "display_data"
    },
    {
     "data": {
      "text/plain": [
       "'[MASK] [MASK] [MASK] [MASK] beatme [MASK] [MASK] [MASK] & [MASK] [MASK] are [MASK] [MASK] his / [MASK] [MASK] [MASK] [MASK] [MASK] [MASK] [MASK] [MASK] / m .'"
      ]
     },
     "metadata": {},
     "output_type": "display_data"
    },
    {
     "data": {
      "text/plain": [
       "'[MASK] [MASK] [MASK] [MASK] beatme [MASK] [MASK] [MASK] & [MASK] [MASK] are [MASK] [MASK] his / [MASK] [MASK] [MASK] [MASK] # [MASK] [MASK] [MASK] / m .'"
      ]
     },
     "metadata": {},
     "output_type": "display_data"
    },
    {
     "data": {
      "text/plain": [
       "'[MASK] [MASK] [MASK] [MASK] beatme [MASK] [MASK] [MASK] & [MASK] [MASK] are [MASK] [MASK] his / [MASK] [MASK] [MASK] [MASK] # × [MASK] [MASK] / m .'"
      ]
     },
     "metadata": {},
     "output_type": "display_data"
    },
    {
     "data": {
      "text/plain": [
       "'[MASK] [MASK] [MASK] [MASK] beatme [MASK] [MASK] [MASK] & [MASK]E are [MASK] [MASK] his / [MASK] [MASK] [MASK] [MASK] # × [MASK] [MASK] / m .'"
      ]
     },
     "metadata": {},
     "output_type": "display_data"
    },
    {
     "data": {
      "text/plain": [
       "'# [MASK] [MASK] [MASK] beatme [MASK] [MASK] [MASK] & [MASK]E are [MASK] [MASK] his / [MASK] [MASK] [MASK] [MASK] # × [MASK] [MASK] / m .'"
      ]
     },
     "metadata": {},
     "output_type": "display_data"
    },
    {
     "data": {
      "text/plain": [
       "'# [MASK] [MASK] [MASK] beatme [MASK] [MASK] [MASK] & [MASK]E are [MASK] [MASK] his / [MASK] [MASK] [MASK] . # × [MASK] [MASK] / m .'"
      ]
     },
     "metadata": {},
     "output_type": "display_data"
    },
    {
     "data": {
      "text/plain": [
       "'# [MASK] × [MASK] beatme [MASK] [MASK] [MASK] & [MASK]E are [MASK] [MASK] his / [MASK] [MASK] [MASK] . # × [MASK] [MASK] / m .'"
      ]
     },
     "metadata": {},
     "output_type": "display_data"
    },
    {
     "data": {
      "text/plain": [
       "'# [MASK] × [MASK] beatme [MASK] [MASK] [MASK] & [MASK]E are [MASK] on his / [MASK] [MASK] [MASK] . # × [MASK] [MASK] / m .'"
      ]
     },
     "metadata": {},
     "output_type": "display_data"
    },
    {
     "data": {
      "text/plain": [
       "'# [MASK] × [MASK] beatme [MASK] , [MASK] & [MASK]E are [MASK] on his / [MASK] [MASK] [MASK] . # × [MASK] [MASK] / m .'"
      ]
     },
     "metadata": {},
     "output_type": "display_data"
    },
    {
     "data": {
      "text/plain": [
       "'# [MASK] × live beatme [MASK] , [MASK] & [MASK]E are [MASK] on his / [MASK] [MASK] [MASK] . # × [MASK] [MASK] / m .'"
      ]
     },
     "metadata": {},
     "output_type": "display_data"
    },
    {
     "data": {
      "text/plain": [
       "'# [MASK] × live beatme [MASK] , [MASK] & [MASK]E are [MASK] on his / [MASK] [MASK] [MASK] . # × [MASK] i / m .'"
      ]
     },
     "metadata": {},
     "output_type": "display_data"
    },
    {
     "data": {
      "text/plain": [
       "'# [MASK] × live beatme [MASK] , [MASK] & [MASK]E are listed on his / [MASK] [MASK] [MASK] . # × [MASK] i / m .'"
      ]
     },
     "metadata": {},
     "output_type": "display_data"
    },
    {
     "data": {
      "text/plain": [
       "'# [MASK] × live beatme [MASK] , [MASK] & [MASK]E are listed on his / [MASK] [MASK] [MASK] . # × universal i / m .'"
      ]
     },
     "metadata": {},
     "output_type": "display_data"
    },
    {
     "data": {
      "text/plain": [
       "'# [MASK] × live beatmember , [MASK] & [MASK]E are listed on his / [MASK] [MASK] [MASK] . # × universal i / m .'"
      ]
     },
     "metadata": {},
     "output_type": "display_data"
    },
    {
     "data": {
      "text/plain": [
       "'# [MASK] × live beatmember , K & [MASK]E are listed on his / [MASK] [MASK] [MASK] . # × universal i / m .'"
      ]
     },
     "metadata": {},
     "output_type": "display_data"
    },
    {
     "data": {
      "text/plain": [
       "'# [MASK] × live beatmember , K & [MASK]E are listed on his / [MASK] their [MASK] . # × universal i / m .'"
      ]
     },
     "metadata": {},
     "output_type": "display_data"
    },
    {
     "data": {
      "text/plain": [
       "'# [MASK] × live beatmember , K & SE are listed on his / [MASK] their [MASK] . # × universal i / m .'"
      ]
     },
     "metadata": {},
     "output_type": "display_data"
    },
    {
     "data": {
      "text/plain": [
       "'# # × live beatmember , K & SE are listed on his / [MASK] their [MASK] . # × universal i / m .'"
      ]
     },
     "metadata": {},
     "output_type": "display_data"
    },
    {
     "data": {
      "text/plain": [
       "'# # × live beatmember , K & SE are listed on his / her their [MASK] . # × universal i / m .'"
      ]
     },
     "metadata": {},
     "output_type": "display_data"
    },
    {
     "data": {
      "text/plain": [
       "'# # × live beatmember , K & SE are listed on his / her their album . # × universal i / m .'"
      ]
     },
     "metadata": {},
     "output_type": "display_data"
    }
   ],
   "source": [
    "# iteratively fix one [MASK] token at a time, treating the flattened logits as one big softmax\n",
    "temp = 1\n",
    "pred_tokens = tokens.clone()\n",
    "idxs_to_predict = [i for i,t in enumerate(tokens) if t==103]\n",
    "# idxs_to_predict = list(range(2+len(text), len(tokens)))\n",
    "while True:\n",
    "    display_text(pred_tokens[len(text)+2:])\n",
    "    \n",
    "    if not len(idxs_to_predict): break\n",
    "    \n",
    "    pred = (\n",
    "        (model(pred_tokens.unsqueeze(dim=0), segments.unsqueeze(dim=0))[0]*token_prior)\n",
    "        .index_select(0, torch.LongTensor(idxs_to_predict))\n",
    "        ).exp()\n",
    "    pred = (pred/pred.sum(dim=1, keepdim=True)).pow(1/temp).view(-1)\n",
    "    \n",
    "    ij = pred.multinomial(1).item()\n",
    "    i = ij//len(tokenizer.vocab)\n",
    "    pred_tokens[idxs_to_predict[i]] = ij%len(tokenizer.vocab)\n",
    "    del idxs_to_predict[i]"
   ]
  },
  {
   "cell_type": "code",
   "execution_count": null,
   "metadata": {},
   "outputs": [],
   "source": [
    "#idea: linguistic erosion stalactites. iteratively delete, replace, shorten tokens\n",
    "# for max entropy position, zero prob of current token then sample\n",
    "# delete min entropy position\n",
    "# zero prob of all tokens longer than current token in position, then sample"
   ]
  },
  {
   "cell_type": "code",
   "execution_count": null,
   "metadata": {},
   "outputs": [],
   "source": []
  }
 ],
 "metadata": {
  "kernelspec": {
   "display_name": "Python 3",
   "language": "python",
   "name": "python3"
  },
  "language_info": {
   "codemirror_mode": {
    "name": "ipython",
    "version": 3
   },
   "file_extension": ".py",
   "mimetype": "text/x-python",
   "name": "python",
   "nbconvert_exporter": "python",
   "pygments_lexer": "ipython3",
   "version": "3.7.1"
  }
 },
 "nbformat": 4,
 "nbformat_minor": 2
}
